{
 "cells": [
  {
   "cell_type": "markdown",
   "id": "2b680353",
   "metadata": {},
   "source": [
    "# Numpy"
   ]
  },
  {
   "cell_type": "markdown",
   "id": "10c72990",
   "metadata": {},
   "source": [
    "1. Creating Arrays"
   ]
  },
  {
   "cell_type": "code",
   "execution_count": 3,
   "id": "cf9fcb46",
   "metadata": {},
   "outputs": [],
   "source": [
    "import numpy as np\n",
    "\n",
    "arr_1d = np.array([1, 2, 3, 4, 5]) #1D array\n",
    "arr_2d = np.array([[1,2,3],[4,5,6]]) #2D array\n",
    "arr_3d = np.array([[[1,2],[3,4]], [[5,6],[7,8]]]) #3D array"
   ]
  },
  {
   "cell_type": "markdown",
   "id": "c8ad3bf8",
   "metadata": {},
   "source": [
    "2. Array Attributes"
   ]
  },
  {
   "cell_type": "code",
   "execution_count": 6,
   "id": "05a3734e",
   "metadata": {},
   "outputs": [
    {
     "name": "stdout",
     "output_type": "stream",
     "text": [
      "(5,)\n",
      "(2, 3)\n",
      "(2, 2, 2)\n"
     ]
    }
   ],
   "source": [
    "print(arr_1d.shape)\n",
    "print(arr_2d.shape)\n",
    "print(arr_3d.shape)"
   ]
  },
  {
   "cell_type": "markdown",
   "id": "1645aa53",
   "metadata": {},
   "source": [
    " 3. Indexing and Slicing\n",
    " "
   ]
  },
  {
   "cell_type": "code",
   "execution_count": 8,
   "id": "261a718b",
   "metadata": {},
   "outputs": [
    {
     "name": "stdout",
     "output_type": "stream",
     "text": [
      "1\n",
      "[2 3 4]\n",
      "[2 4]\n",
      "5\n",
      "[3 4 5]\n"
     ]
    }
   ],
   "source": [
    "# Used for accessing elements\n",
    "\n",
    "Numbers = np.array([1, 2, 3, 4, 5])\n",
    "print(Numbers[0]) # 1\n",
    "print(Numbers[1:4]) # [2 3 4]\n",
    "print(Numbers[1:4:2]) # [2 4] - step of 2\n",
    "print(Numbers[-1]) # 5 - last element\n",
    "print(Numbers[Numbers>2]) # [3 4 5] - boolean indexing\n"
   ]
  },
  {
   "cell_type": "markdown",
   "id": "7f2276db",
   "metadata": {},
   "source": [
    "3. Array Operations"
   ]
  },
  {
   "cell_type": "markdown",
   "id": "50d9cbfa",
   "metadata": {},
   "source": []
  },
  {
   "cell_type": "code",
   "execution_count": 9,
   "id": "7273458a",
   "metadata": {},
   "outputs": [
    {
     "name": "stdout",
     "output_type": "stream",
     "text": [
      "[ 7  9 11 13 15]\n",
      "[ 6 14 24 36 50]\n",
      "[ 1  4  9 16 25]\n",
      "[1.         1.41421356 1.73205081 2.         2.23606798]\n"
     ]
    }
   ],
   "source": [
    "a = np.array([1,2,3,4,5])\n",
    "b = np.array([6,7,8,9,10])\n",
    "\n",
    "print(a + b)\n",
    "print(a * b) # Element-wise multiplication\n",
    "print(a ** 2)\n",
    "print(np.sqrt(a)) # Square root of each element\n"
   ]
  },
  {
   "cell_type": "markdown",
   "id": "42583133",
   "metadata": {},
   "source": [
    "4. "
   ]
  }
 ],
 "metadata": {
  "kernelspec": {
   "display_name": "base",
   "language": "python",
   "name": "python3"
  },
  "language_info": {
   "codemirror_mode": {
    "name": "ipython",
    "version": 3
   },
   "file_extension": ".py",
   "mimetype": "text/x-python",
   "name": "python",
   "nbconvert_exporter": "python",
   "pygments_lexer": "ipython3",
   "version": "3.12.7"
  }
 },
 "nbformat": 4,
 "nbformat_minor": 5
}
