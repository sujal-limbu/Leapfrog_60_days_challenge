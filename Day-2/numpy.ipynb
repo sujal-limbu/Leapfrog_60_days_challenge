{
 "cells": [
  {
   "cell_type": "markdown",
   "id": "2b680353",
   "metadata": {},
   "source": [
    "# Numpy"
   ]
  },
  {
   "cell_type": "markdown",
   "id": "10c72990",
   "metadata": {},
   "source": [
    "1. Creating Arrays"
   ]
  },
  {
   "cell_type": "code",
   "execution_count": 18,
   "id": "cf9fcb46",
   "metadata": {},
   "outputs": [],
   "source": [
    "import numpy as np\n",
    "\n",
    "arr_1d = np.array([1, 2, 3, 4, 5]) #1D array\n",
    "arr_2d = np.array([[1,2,3],[4,5,6]]) #2D array\n",
    "arr_3d = np.array([[[1,2],[3,4]], [[5,6],[7,8]]]) #3D array"
   ]
  },
  {
   "cell_type": "markdown",
   "id": "c8ad3bf8",
   "metadata": {},
   "source": [
    "2. Array Attributes"
   ]
  },
  {
   "cell_type": "code",
   "execution_count": 19,
   "id": "05a3734e",
   "metadata": {},
   "outputs": [
    {
     "name": "stdout",
     "output_type": "stream",
     "text": [
      "(5,)\n",
      "(2, 3)\n",
      "(2, 2, 2)\n"
     ]
    }
   ],
   "source": [
    "print(arr_1d.shape)\n",
    "print(arr_2d.shape)\n",
    "print(arr_3d.shape)"
   ]
  },
  {
   "cell_type": "markdown",
   "id": "1645aa53",
   "metadata": {},
   "source": [
    " 3. Indexing and Slicing\n",
    " "
   ]
  },
  {
   "cell_type": "code",
   "execution_count": 20,
   "id": "261a718b",
   "metadata": {},
   "outputs": [
    {
     "name": "stdout",
     "output_type": "stream",
     "text": [
      "1\n",
      "[2 3 4]\n",
      "[2 4]\n",
      "5\n",
      "[3 4 5]\n"
     ]
    }
   ],
   "source": [
    "# Used for accessing elements\n",
    "\n",
    "Numbers = np.array([1, 2, 3, 4, 5])\n",
    "print(Numbers[0]) # 1\n",
    "print(Numbers[1:4]) # [2 3 4]\n",
    "print(Numbers[1:4:2]) # [2 4] - step of 2\n",
    "print(Numbers[-1]) # 5 - last element\n",
    "print(Numbers[Numbers>2]) # [3 4 5] - boolean indexing\n"
   ]
  },
  {
   "cell_type": "markdown",
   "id": "7f2276db",
   "metadata": {},
   "source": [
    "4. Array Operations"
   ]
  },
  {
   "cell_type": "code",
   "execution_count": 21,
   "id": "7273458a",
   "metadata": {},
   "outputs": [
    {
     "name": "stdout",
     "output_type": "stream",
     "text": [
      "[ 7  9 11 13 15]\n",
      "[ 6 14 24 36 50]\n",
      "[ 1  4  9 16 25]\n",
      "[1.         1.41421356 1.73205081 2.         2.23606798]\n"
     ]
    }
   ],
   "source": [
    "a = np.array([1,2,3,4,5])\n",
    "b = np.array([6,7,8,9,10])\n",
    "\n",
    "print(a + b)\n",
    "print(a * b) # Element-wise multiplication\n",
    "print(a ** 2)\n",
    "print(np.sqrt(a)) # Square root of each element\n"
   ]
  },
  {
   "cell_type": "markdown",
   "id": "42583133",
   "metadata": {},
   "source": [
    "5. Aggregation Function"
   ]
  },
  {
   "cell_type": "code",
   "execution_count": 22,
   "id": "0ba5c712",
   "metadata": {},
   "outputs": [
    {
     "name": "stdout",
     "output_type": "stream",
     "text": [
      "40.0\n",
      "24.49489742783178\n",
      "600.0\n",
      "10\n",
      "80\n",
      "200\n",
      "[ 10  30  70 120 200]\n"
     ]
    }
   ],
   "source": [
    "datas = np.array([10,20,40,50,80])\n",
    "\n",
    "print(datas.mean()) # Mean\n",
    "print(datas.std()) # Standard deviation\n",
    "print(datas.var()) # Variance\n",
    "print(datas.min()) # Minimum\n",
    "print(datas.max()) # Maximum\n",
    "print(datas.sum()) # Sum of all elements\n",
    "print(datas.cumsum()) # Cumulative sum"
   ]
  },
  {
   "cell_type": "markdown",
   "id": "5cfa5913",
   "metadata": {},
   "source": [
    "6. Reshape and Transpose\n"
   ]
  },
  {
   "cell_type": "code",
   "execution_count": 23,
   "id": "37277a81",
   "metadata": {},
   "outputs": [
    {
     "name": "stdout",
     "output_type": "stream",
     "text": [
      "[[ 1  2  3]\n",
      " [ 5 78 42]]\n",
      "[[ 1  5]\n",
      " [ 2 78]\n",
      " [ 3 42]]\n"
     ]
    }
   ],
   "source": [
    "arr = np.array([1,2,3,5,78,42])\n",
    "reshaped = arr.reshape(2,3) # Reshape to 2 rows and 3 columns\n",
    "print(reshaped)\n",
    "print(reshaped.T) # Transpose the reshaped array\n"
   ]
  },
  {
   "cell_type": "markdown",
   "id": "d179b092",
   "metadata": {},
   "source": [
    "7. Random Module"
   ]
  },
  {
   "cell_type": "code",
   "execution_count": 24,
   "id": "0a1eb3f9",
   "metadata": {},
   "outputs": [],
   "source": [
    "np.random.seed(0)   # for reproducibility\n",
    "rand_nums = np.random.rand(3)   # [0.5488, 0.7152, 0.6027]\n",
    "\n",
    "# Random integers between 0–10\n",
    "rand_ints = np.random.randint(0, 10, size=5)  # [5, 0, 3, 3, 7]\n"
   ]
  },
  {
   "cell_type": "markdown",
   "id": "604da2f1",
   "metadata": {},
   "source": [
    "8. Stacking Arrays"
   ]
  },
  {
   "cell_type": "code",
   "execution_count": null,
   "id": "4c0bc885",
   "metadata": {},
   "outputs": [
    {
     "name": "stdout",
     "output_type": "stream",
     "text": [
      "[[1 2]\n",
      " [3 4]]\n"
     ]
    }
   ],
   "source": [
    "a = np.array([1, 2])\n",
    "b = np.array([3, 4])\n",
    "\n",
    "print(np.vstack([a, b]))\n",
    "# [[1 2]\n",
    "#  [3 4]]"
   ]
  },
  {
   "cell_type": "markdown",
   "id": "f9264346",
   "metadata": {},
   "source": [
    "9. Dot Product"
   ]
  },
  {
   "cell_type": "code",
   "execution_count": 26,
   "id": "79c19ed4",
   "metadata": {},
   "outputs": [
    {
     "name": "stdout",
     "output_type": "stream",
     "text": [
      "11\n"
     ]
    }
   ],
   "source": [
    "a = np.array([1, 2])\n",
    "b = np.array([3, 4])\n",
    "\n",
    "print(np.dot(a, b))  \n"
   ]
  }
 ],
 "metadata": {
  "kernelspec": {
   "display_name": "base",
   "language": "python",
   "name": "python3"
  },
  "language_info": {
   "codemirror_mode": {
    "name": "ipython",
    "version": 3
   },
   "file_extension": ".py",
   "mimetype": "text/x-python",
   "name": "python",
   "nbconvert_exporter": "python",
   "pygments_lexer": "ipython3",
   "version": "3.12.7"
  }
 },
 "nbformat": 4,
 "nbformat_minor": 5
}
